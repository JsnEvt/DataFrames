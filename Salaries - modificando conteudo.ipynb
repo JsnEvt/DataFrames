{
 "cells": [
  {
   "cell_type": "code",
   "execution_count": 1,
   "id": "59a4a42b",
   "metadata": {},
   "outputs": [],
   "source": [
    "# trabalhando com o pandas e dataframes"
   ]
  },
  {
   "cell_type": "code",
   "execution_count": 2,
   "id": "74aa611d",
   "metadata": {},
   "outputs": [],
   "source": [
    "import pandas as pd"
   ]
  },
  {
   "cell_type": "code",
   "execution_count": 3,
   "id": "dd81daf6",
   "metadata": {},
   "outputs": [],
   "source": [
    "salm = pd.read_csv('Salaries.csv')"
   ]
  },
  {
   "cell_type": "code",
   "execution_count": 4,
   "id": "527da628",
   "metadata": {},
   "outputs": [
    {
     "data": {
      "text/html": [
       "<div>\n",
       "<style scoped>\n",
       "    .dataframe tbody tr th:only-of-type {\n",
       "        vertical-align: middle;\n",
       "    }\n",
       "\n",
       "    .dataframe tbody tr th {\n",
       "        vertical-align: top;\n",
       "    }\n",
       "\n",
       "    .dataframe thead th {\n",
       "        text-align: right;\n",
       "    }\n",
       "</style>\n",
       "<table border=\"1\" class=\"dataframe\">\n",
       "  <thead>\n",
       "    <tr style=\"text-align: right;\">\n",
       "      <th></th>\n",
       "      <th>Id</th>\n",
       "      <th>EmployeeName</th>\n",
       "      <th>JobTitle</th>\n",
       "      <th>BasePay</th>\n",
       "      <th>OvertimePay</th>\n",
       "      <th>OtherPay</th>\n",
       "      <th>Benefits</th>\n",
       "      <th>TotalPay</th>\n",
       "      <th>TotalPayBenefits</th>\n",
       "      <th>Year</th>\n",
       "      <th>Notes</th>\n",
       "      <th>Agency</th>\n",
       "      <th>Status</th>\n",
       "    </tr>\n",
       "  </thead>\n",
       "  <tbody>\n",
       "    <tr>\n",
       "      <th>0</th>\n",
       "      <td>1</td>\n",
       "      <td>NATHANIEL FORD</td>\n",
       "      <td>GENERAL MANAGER-METROPOLITAN TRANSIT AUTHORITY</td>\n",
       "      <td>167411.18</td>\n",
       "      <td>0.00</td>\n",
       "      <td>400184.25</td>\n",
       "      <td>NaN</td>\n",
       "      <td>567595.43</td>\n",
       "      <td>567595.43</td>\n",
       "      <td>2011</td>\n",
       "      <td>NaN</td>\n",
       "      <td>San Francisco</td>\n",
       "      <td>NaN</td>\n",
       "    </tr>\n",
       "    <tr>\n",
       "      <th>1</th>\n",
       "      <td>2</td>\n",
       "      <td>GARY JIMENEZ</td>\n",
       "      <td>CAPTAIN III (POLICE DEPARTMENT)</td>\n",
       "      <td>155966.02</td>\n",
       "      <td>245131.88</td>\n",
       "      <td>137811.38</td>\n",
       "      <td>NaN</td>\n",
       "      <td>538909.28</td>\n",
       "      <td>538909.28</td>\n",
       "      <td>2011</td>\n",
       "      <td>NaN</td>\n",
       "      <td>San Francisco</td>\n",
       "      <td>NaN</td>\n",
       "    </tr>\n",
       "    <tr>\n",
       "      <th>2</th>\n",
       "      <td>3</td>\n",
       "      <td>ALBERT PARDINI</td>\n",
       "      <td>CAPTAIN III (POLICE DEPARTMENT)</td>\n",
       "      <td>212739.13</td>\n",
       "      <td>106088.18</td>\n",
       "      <td>16452.60</td>\n",
       "      <td>NaN</td>\n",
       "      <td>335279.91</td>\n",
       "      <td>335279.91</td>\n",
       "      <td>2011</td>\n",
       "      <td>NaN</td>\n",
       "      <td>San Francisco</td>\n",
       "      <td>NaN</td>\n",
       "    </tr>\n",
       "    <tr>\n",
       "      <th>3</th>\n",
       "      <td>4</td>\n",
       "      <td>CHRISTOPHER CHONG</td>\n",
       "      <td>WIRE ROPE CABLE MAINTENANCE MECHANIC</td>\n",
       "      <td>77916.00</td>\n",
       "      <td>56120.71</td>\n",
       "      <td>198306.90</td>\n",
       "      <td>NaN</td>\n",
       "      <td>332343.61</td>\n",
       "      <td>332343.61</td>\n",
       "      <td>2011</td>\n",
       "      <td>NaN</td>\n",
       "      <td>San Francisco</td>\n",
       "      <td>NaN</td>\n",
       "    </tr>\n",
       "    <tr>\n",
       "      <th>4</th>\n",
       "      <td>5</td>\n",
       "      <td>PATRICK GARDNER</td>\n",
       "      <td>DEPUTY CHIEF OF DEPARTMENT,(FIRE DEPARTMENT)</td>\n",
       "      <td>134401.60</td>\n",
       "      <td>9737.00</td>\n",
       "      <td>182234.59</td>\n",
       "      <td>NaN</td>\n",
       "      <td>326373.19</td>\n",
       "      <td>326373.19</td>\n",
       "      <td>2011</td>\n",
       "      <td>NaN</td>\n",
       "      <td>San Francisco</td>\n",
       "      <td>NaN</td>\n",
       "    </tr>\n",
       "  </tbody>\n",
       "</table>\n",
       "</div>"
      ],
      "text/plain": [
       "   Id       EmployeeName                                        JobTitle  \\\n",
       "0   1     NATHANIEL FORD  GENERAL MANAGER-METROPOLITAN TRANSIT AUTHORITY   \n",
       "1   2       GARY JIMENEZ                 CAPTAIN III (POLICE DEPARTMENT)   \n",
       "2   3     ALBERT PARDINI                 CAPTAIN III (POLICE DEPARTMENT)   \n",
       "3   4  CHRISTOPHER CHONG            WIRE ROPE CABLE MAINTENANCE MECHANIC   \n",
       "4   5    PATRICK GARDNER    DEPUTY CHIEF OF DEPARTMENT,(FIRE DEPARTMENT)   \n",
       "\n",
       "     BasePay  OvertimePay   OtherPay  Benefits   TotalPay  TotalPayBenefits  \\\n",
       "0  167411.18         0.00  400184.25       NaN  567595.43         567595.43   \n",
       "1  155966.02    245131.88  137811.38       NaN  538909.28         538909.28   \n",
       "2  212739.13    106088.18   16452.60       NaN  335279.91         335279.91   \n",
       "3   77916.00     56120.71  198306.90       NaN  332343.61         332343.61   \n",
       "4  134401.60      9737.00  182234.59       NaN  326373.19         326373.19   \n",
       "\n",
       "   Year  Notes         Agency  Status  \n",
       "0  2011    NaN  San Francisco     NaN  \n",
       "1  2011    NaN  San Francisco     NaN  \n",
       "2  2011    NaN  San Francisco     NaN  \n",
       "3  2011    NaN  San Francisco     NaN  \n",
       "4  2011    NaN  San Francisco     NaN  "
      ]
     },
     "execution_count": 4,
     "metadata": {},
     "output_type": "execute_result"
    }
   ],
   "source": [
    "salm.head()"
   ]
  },
  {
   "cell_type": "code",
   "execution_count": 5,
   "id": "0bc51cab",
   "metadata": {},
   "outputs": [
    {
     "data": {
      "text/plain": [
       "148654"
      ]
     },
     "execution_count": 5,
     "metadata": {},
     "output_type": "execute_result"
    }
   ],
   "source": [
    "len(salm)"
   ]
  },
  {
   "cell_type": "code",
   "execution_count": 6,
   "id": "24558a9d",
   "metadata": {},
   "outputs": [
    {
     "name": "stdout",
     "output_type": "stream",
     "text": [
      "<class 'pandas.core.frame.DataFrame'>\n",
      "RangeIndex: 148654 entries, 0 to 148653\n",
      "Data columns (total 13 columns):\n",
      " #   Column            Non-Null Count   Dtype  \n",
      "---  ------            --------------   -----  \n",
      " 0   Id                148654 non-null  int64  \n",
      " 1   EmployeeName      148654 non-null  object \n",
      " 2   JobTitle          148654 non-null  object \n",
      " 3   BasePay           148045 non-null  float64\n",
      " 4   OvertimePay       148650 non-null  float64\n",
      " 5   OtherPay          148650 non-null  float64\n",
      " 6   Benefits          112491 non-null  float64\n",
      " 7   TotalPay          148654 non-null  float64\n",
      " 8   TotalPayBenefits  148654 non-null  float64\n",
      " 9   Year              148654 non-null  int64  \n",
      " 10  Notes             0 non-null       float64\n",
      " 11  Agency            148654 non-null  object \n",
      " 12  Status            0 non-null       float64\n",
      "dtypes: float64(8), int64(2), object(3)\n",
      "memory usage: 14.7+ MB\n"
     ]
    }
   ],
   "source": [
    "salm.info()"
   ]
  },
  {
   "cell_type": "code",
   "execution_count": 7,
   "id": "d1db26d4",
   "metadata": {},
   "outputs": [],
   "source": [
    "salm = salm.drop('Notes', axis=1)"
   ]
  },
  {
   "cell_type": "code",
   "execution_count": 8,
   "id": "7c0bce2f",
   "metadata": {},
   "outputs": [],
   "source": [
    "salm = salm.drop('Status', axis=1)"
   ]
  },
  {
   "cell_type": "code",
   "execution_count": 9,
   "id": "785d2b2a",
   "metadata": {},
   "outputs": [
    {
     "data": {
      "text/html": [
       "<div>\n",
       "<style scoped>\n",
       "    .dataframe tbody tr th:only-of-type {\n",
       "        vertical-align: middle;\n",
       "    }\n",
       "\n",
       "    .dataframe tbody tr th {\n",
       "        vertical-align: top;\n",
       "    }\n",
       "\n",
       "    .dataframe thead th {\n",
       "        text-align: right;\n",
       "    }\n",
       "</style>\n",
       "<table border=\"1\" class=\"dataframe\">\n",
       "  <thead>\n",
       "    <tr style=\"text-align: right;\">\n",
       "      <th></th>\n",
       "      <th>Id</th>\n",
       "      <th>EmployeeName</th>\n",
       "      <th>JobTitle</th>\n",
       "      <th>BasePay</th>\n",
       "      <th>OvertimePay</th>\n",
       "      <th>OtherPay</th>\n",
       "      <th>Benefits</th>\n",
       "      <th>TotalPay</th>\n",
       "      <th>TotalPayBenefits</th>\n",
       "      <th>Year</th>\n",
       "      <th>Agency</th>\n",
       "    </tr>\n",
       "  </thead>\n",
       "  <tbody>\n",
       "    <tr>\n",
       "      <th>0</th>\n",
       "      <td>1</td>\n",
       "      <td>NATHANIEL FORD</td>\n",
       "      <td>GENERAL MANAGER-METROPOLITAN TRANSIT AUTHORITY</td>\n",
       "      <td>167411.18</td>\n",
       "      <td>0.00</td>\n",
       "      <td>400184.25</td>\n",
       "      <td>NaN</td>\n",
       "      <td>567595.43</td>\n",
       "      <td>567595.43</td>\n",
       "      <td>2011</td>\n",
       "      <td>San Francisco</td>\n",
       "    </tr>\n",
       "    <tr>\n",
       "      <th>1</th>\n",
       "      <td>2</td>\n",
       "      <td>GARY JIMENEZ</td>\n",
       "      <td>CAPTAIN III (POLICE DEPARTMENT)</td>\n",
       "      <td>155966.02</td>\n",
       "      <td>245131.88</td>\n",
       "      <td>137811.38</td>\n",
       "      <td>NaN</td>\n",
       "      <td>538909.28</td>\n",
       "      <td>538909.28</td>\n",
       "      <td>2011</td>\n",
       "      <td>San Francisco</td>\n",
       "    </tr>\n",
       "    <tr>\n",
       "      <th>2</th>\n",
       "      <td>3</td>\n",
       "      <td>ALBERT PARDINI</td>\n",
       "      <td>CAPTAIN III (POLICE DEPARTMENT)</td>\n",
       "      <td>212739.13</td>\n",
       "      <td>106088.18</td>\n",
       "      <td>16452.60</td>\n",
       "      <td>NaN</td>\n",
       "      <td>335279.91</td>\n",
       "      <td>335279.91</td>\n",
       "      <td>2011</td>\n",
       "      <td>San Francisco</td>\n",
       "    </tr>\n",
       "    <tr>\n",
       "      <th>3</th>\n",
       "      <td>4</td>\n",
       "      <td>CHRISTOPHER CHONG</td>\n",
       "      <td>WIRE ROPE CABLE MAINTENANCE MECHANIC</td>\n",
       "      <td>77916.00</td>\n",
       "      <td>56120.71</td>\n",
       "      <td>198306.90</td>\n",
       "      <td>NaN</td>\n",
       "      <td>332343.61</td>\n",
       "      <td>332343.61</td>\n",
       "      <td>2011</td>\n",
       "      <td>San Francisco</td>\n",
       "    </tr>\n",
       "    <tr>\n",
       "      <th>4</th>\n",
       "      <td>5</td>\n",
       "      <td>PATRICK GARDNER</td>\n",
       "      <td>DEPUTY CHIEF OF DEPARTMENT,(FIRE DEPARTMENT)</td>\n",
       "      <td>134401.60</td>\n",
       "      <td>9737.00</td>\n",
       "      <td>182234.59</td>\n",
       "      <td>NaN</td>\n",
       "      <td>326373.19</td>\n",
       "      <td>326373.19</td>\n",
       "      <td>2011</td>\n",
       "      <td>San Francisco</td>\n",
       "    </tr>\n",
       "  </tbody>\n",
       "</table>\n",
       "</div>"
      ],
      "text/plain": [
       "   Id       EmployeeName                                        JobTitle  \\\n",
       "0   1     NATHANIEL FORD  GENERAL MANAGER-METROPOLITAN TRANSIT AUTHORITY   \n",
       "1   2       GARY JIMENEZ                 CAPTAIN III (POLICE DEPARTMENT)   \n",
       "2   3     ALBERT PARDINI                 CAPTAIN III (POLICE DEPARTMENT)   \n",
       "3   4  CHRISTOPHER CHONG            WIRE ROPE CABLE MAINTENANCE MECHANIC   \n",
       "4   5    PATRICK GARDNER    DEPUTY CHIEF OF DEPARTMENT,(FIRE DEPARTMENT)   \n",
       "\n",
       "     BasePay  OvertimePay   OtherPay  Benefits   TotalPay  TotalPayBenefits  \\\n",
       "0  167411.18         0.00  400184.25       NaN  567595.43         567595.43   \n",
       "1  155966.02    245131.88  137811.38       NaN  538909.28         538909.28   \n",
       "2  212739.13    106088.18   16452.60       NaN  335279.91         335279.91   \n",
       "3   77916.00     56120.71  198306.90       NaN  332343.61         332343.61   \n",
       "4  134401.60      9737.00  182234.59       NaN  326373.19         326373.19   \n",
       "\n",
       "   Year         Agency  \n",
       "0  2011  San Francisco  \n",
       "1  2011  San Francisco  \n",
       "2  2011  San Francisco  \n",
       "3  2011  San Francisco  \n",
       "4  2011  San Francisco  "
      ]
     },
     "execution_count": 9,
     "metadata": {},
     "output_type": "execute_result"
    }
   ],
   "source": [
    "salm.head()"
   ]
  },
  {
   "cell_type": "code",
   "execution_count": 10,
   "id": "cf920f62",
   "metadata": {},
   "outputs": [],
   "source": [
    "ag_sf = salm[salm['Agency']=='San Francisco'].value_counts()"
   ]
  },
  {
   "cell_type": "code",
   "execution_count": 11,
   "id": "80a7d5a8",
   "metadata": {},
   "outputs": [
    {
     "data": {
      "text/plain": [
       "1    111886\n",
       "dtype: int64"
      ]
     },
     "execution_count": 11,
     "metadata": {},
     "output_type": "execute_result"
    }
   ],
   "source": [
    "ag_sf.value_counts()"
   ]
  },
  {
   "cell_type": "code",
   "execution_count": 12,
   "id": "646ceadc",
   "metadata": {},
   "outputs": [
    {
     "data": {
      "text/plain": [
       "array(['San Francisco'], dtype=object)"
      ]
     },
     "execution_count": 12,
     "metadata": {},
     "output_type": "execute_result"
    }
   ],
   "source": [
    "salm['Agency'].unique()"
   ]
  },
  {
   "cell_type": "code",
   "execution_count": 13,
   "id": "a1891240",
   "metadata": {},
   "outputs": [
    {
     "data": {
      "text/plain": [
       "KEVIN LEE              9\n",
       "MICHAEL LEE            8\n",
       "RICHARD LEE            8\n",
       "DAVID WONG             8\n",
       "MICHAEL BROWN          7\n",
       "                      ..\n",
       "RICHARD MATTHEWS       1\n",
       "DARRIN DILL            1\n",
       "SHERMA BROOKS          1\n",
       "CARL COLLINS           1\n",
       "ROSA MORENO-ALVAREZ    1\n",
       "Name: EmployeeName, Length: 33878, dtype: int64"
      ]
     },
     "execution_count": 13,
     "metadata": {},
     "output_type": "execute_result"
    }
   ],
   "source": [
    "# quantas vezes o nome de cada empregado aparece, por ano.\n",
    "salm[salm['Year']==2011]['EmployeeName'].value_counts()"
   ]
  },
  {
   "cell_type": "code",
   "execution_count": 14,
   "id": "a69d521b",
   "metadata": {},
   "outputs": [
    {
     "name": "stderr",
     "output_type": "stream",
     "text": [
      "<ipython-input-14-93597eb7aabc>:2: UserWarning: Boolean Series key will be reindexed to match DataFrame index.\n",
      "  salm[salm['Year']==2011][salm['EmployeeName']=='STEVEN LEE']['TotalPayBenefits'].sum()\n"
     ]
    },
    {
     "data": {
      "text/plain": [
       "634700.3900000001"
      ]
     },
     "execution_count": 14,
     "metadata": {},
     "output_type": "execute_result"
    }
   ],
   "source": [
    "#quanto KEVIN LEE recebeu em 2011\n",
    "salm[salm['Year']==2011][salm['EmployeeName']=='STEVEN LEE']['TotalPayBenefits'].sum()"
   ]
  },
  {
   "cell_type": "code",
   "execution_count": 15,
   "id": "0827ff5d",
   "metadata": {},
   "outputs": [
    {
     "name": "stderr",
     "output_type": "stream",
     "text": [
      "<ipython-input-15-9d6d6391b6fc>:1: UserWarning: Boolean Series key will be reindexed to match DataFrame index.\n",
      "  salm[salm['Year']==2011][salm['EmployeeName']=='TAHREN DENSON']['TotalPayBenefits'].sum()\n"
     ]
    },
    {
     "data": {
      "text/plain": [
       "774.22"
      ]
     },
     "execution_count": 15,
     "metadata": {},
     "output_type": "execute_result"
    }
   ],
   "source": [
    "salm[salm['Year']==2011][salm['EmployeeName']=='TAHREN DENSON']['TotalPayBenefits'].sum()"
   ]
  },
  {
   "cell_type": "code",
   "execution_count": 16,
   "id": "f8d01c40",
   "metadata": {},
   "outputs": [],
   "source": [
    "nf = salm[salm['EmployeeName']=='NATHANIEL FORD'].nunique()"
   ]
  },
  {
   "cell_type": "code",
   "execution_count": 17,
   "id": "db4e52d1",
   "metadata": {},
   "outputs": [
    {
     "data": {
      "text/plain": [
       "Id                  1\n",
       "EmployeeName        1\n",
       "JobTitle            1\n",
       "BasePay             1\n",
       "OvertimePay         1\n",
       "OtherPay            1\n",
       "Benefits            0\n",
       "TotalPay            1\n",
       "TotalPayBenefits    1\n",
       "Year                1\n",
       "Agency              1\n",
       "dtype: int64"
      ]
     },
     "execution_count": 17,
     "metadata": {},
     "output_type": "execute_result"
    }
   ],
   "source": [
    "nf"
   ]
  },
  {
   "cell_type": "code",
   "execution_count": 18,
   "id": "bac49272",
   "metadata": {},
   "outputs": [
    {
     "data": {
      "text/plain": [
       "66325.44884050643"
      ]
     },
     "execution_count": 18,
     "metadata": {},
     "output_type": "execute_result"
    }
   ],
   "source": [
    "#media do pagamento base\n",
    "salm['BasePay'].mean()"
   ]
  },
  {
   "cell_type": "code",
   "execution_count": 19,
   "id": "cb72cbaa",
   "metadata": {},
   "outputs": [
    {
     "data": {
      "text/plain": [
       "245131.88"
      ]
     },
     "execution_count": 19,
     "metadata": {},
     "output_type": "execute_result"
    }
   ],
   "source": [
    "#maior quantidade no OvertimePay\n",
    "salm['OvertimePay'].max()"
   ]
  },
  {
   "cell_type": "code",
   "execution_count": 20,
   "id": "e408d1ef",
   "metadata": {},
   "outputs": [
    {
     "data": {
      "text/plain": [
       "24    CAPTAIN, FIRE SUPPRESSION\n",
       "Name: JobTitle, dtype: object"
      ]
     },
     "execution_count": 20,
     "metadata": {},
     "output_type": "execute_result"
    }
   ],
   "source": [
    "#cargo de JOSEPH DRISCOLL\n",
    "salm[salm['EmployeeName']=='JOSEPH DRISCOLL']['JobTitle']"
   ]
  },
  {
   "cell_type": "code",
   "execution_count": 21,
   "id": "01cede7f",
   "metadata": {},
   "outputs": [
    {
     "data": {
      "text/plain": [
       "24    270324.91\n",
       "Name: TotalPayBenefits, dtype: float64"
      ]
     },
     "execution_count": 21,
     "metadata": {},
     "output_type": "execute_result"
    }
   ],
   "source": [
    "#quanto JOSEPH ganha incluindo beneficios\n",
    "salm[salm['EmployeeName']=='JOSEPH DRISCOLL']['TotalPayBenefits']"
   ]
  },
  {
   "cell_type": "code",
   "execution_count": 22,
   "id": "70c14a58",
   "metadata": {},
   "outputs": [
    {
     "data": {
      "text/html": [
       "<div>\n",
       "<style scoped>\n",
       "    .dataframe tbody tr th:only-of-type {\n",
       "        vertical-align: middle;\n",
       "    }\n",
       "\n",
       "    .dataframe tbody tr th {\n",
       "        vertical-align: top;\n",
       "    }\n",
       "\n",
       "    .dataframe thead th {\n",
       "        text-align: right;\n",
       "    }\n",
       "</style>\n",
       "<table border=\"1\" class=\"dataframe\">\n",
       "  <thead>\n",
       "    <tr style=\"text-align: right;\">\n",
       "      <th></th>\n",
       "      <th>Id</th>\n",
       "      <th>EmployeeName</th>\n",
       "      <th>JobTitle</th>\n",
       "      <th>BasePay</th>\n",
       "      <th>OvertimePay</th>\n",
       "      <th>OtherPay</th>\n",
       "      <th>Benefits</th>\n",
       "      <th>TotalPay</th>\n",
       "      <th>TotalPayBenefits</th>\n",
       "      <th>Year</th>\n",
       "      <th>Agency</th>\n",
       "    </tr>\n",
       "  </thead>\n",
       "  <tbody>\n",
       "    <tr>\n",
       "      <th>0</th>\n",
       "      <td>1</td>\n",
       "      <td>NATHANIEL FORD</td>\n",
       "      <td>GENERAL MANAGER-METROPOLITAN TRANSIT AUTHORITY</td>\n",
       "      <td>167411.18</td>\n",
       "      <td>0.0</td>\n",
       "      <td>400184.25</td>\n",
       "      <td>NaN</td>\n",
       "      <td>567595.43</td>\n",
       "      <td>567595.43</td>\n",
       "      <td>2011</td>\n",
       "      <td>San Francisco</td>\n",
       "    </tr>\n",
       "  </tbody>\n",
       "</table>\n",
       "</div>"
      ],
      "text/plain": [
       "   Id    EmployeeName                                        JobTitle  \\\n",
       "0   1  NATHANIEL FORD  GENERAL MANAGER-METROPOLITAN TRANSIT AUTHORITY   \n",
       "\n",
       "     BasePay  OvertimePay   OtherPay  Benefits   TotalPay  TotalPayBenefits  \\\n",
       "0  167411.18          0.0  400184.25       NaN  567595.43         567595.43   \n",
       "\n",
       "   Year         Agency  \n",
       "0  2011  San Francisco  "
      ]
     },
     "execution_count": 22,
     "metadata": {},
     "output_type": "execute_result"
    }
   ],
   "source": [
    "#nome da pessoa mais bem paga\n",
    "salm[salm['TotalPayBenefits'] == salm['TotalPayBenefits'].max()]"
   ]
  },
  {
   "cell_type": "code",
   "execution_count": 23,
   "id": "f4bb7ae8",
   "metadata": {},
   "outputs": [
    {
     "data": {
      "text/plain": [
       "Id                                                               1\n",
       "EmployeeName                                        NATHANIEL FORD\n",
       "JobTitle            GENERAL MANAGER-METROPOLITAN TRANSIT AUTHORITY\n",
       "BasePay                                                  167411.18\n",
       "OvertimePay                                                    0.0\n",
       "OtherPay                                                 400184.25\n",
       "Benefits                                                       NaN\n",
       "TotalPay                                                 567595.43\n",
       "TotalPayBenefits                                         567595.43\n",
       "Year                                                          2011\n",
       "Agency                                               San Francisco\n",
       "Name: 0, dtype: object"
      ]
     },
     "execution_count": 23,
     "metadata": {},
     "output_type": "execute_result"
    }
   ],
   "source": [
    "salm.loc[salm['TotalPayBenefits'].idxmax()]"
   ]
  },
  {
   "cell_type": "code",
   "execution_count": 24,
   "id": "301cb2f8",
   "metadata": {},
   "outputs": [
    {
     "data": {
      "text/html": [
       "<div>\n",
       "<style scoped>\n",
       "    .dataframe tbody tr th:only-of-type {\n",
       "        vertical-align: middle;\n",
       "    }\n",
       "\n",
       "    .dataframe tbody tr th {\n",
       "        vertical-align: top;\n",
       "    }\n",
       "\n",
       "    .dataframe thead th {\n",
       "        text-align: right;\n",
       "    }\n",
       "</style>\n",
       "<table border=\"1\" class=\"dataframe\">\n",
       "  <thead>\n",
       "    <tr style=\"text-align: right;\">\n",
       "      <th></th>\n",
       "      <th>Id</th>\n",
       "      <th>EmployeeName</th>\n",
       "      <th>JobTitle</th>\n",
       "      <th>BasePay</th>\n",
       "      <th>OvertimePay</th>\n",
       "      <th>OtherPay</th>\n",
       "      <th>Benefits</th>\n",
       "      <th>TotalPay</th>\n",
       "      <th>TotalPayBenefits</th>\n",
       "      <th>Year</th>\n",
       "      <th>Agency</th>\n",
       "    </tr>\n",
       "  </thead>\n",
       "  <tbody>\n",
       "    <tr>\n",
       "      <th>148653</th>\n",
       "      <td>148654</td>\n",
       "      <td>Joe Lopez</td>\n",
       "      <td>Counselor, Log Cabin Ranch</td>\n",
       "      <td>0.0</td>\n",
       "      <td>0.0</td>\n",
       "      <td>-618.13</td>\n",
       "      <td>0.0</td>\n",
       "      <td>-618.13</td>\n",
       "      <td>-618.13</td>\n",
       "      <td>2014</td>\n",
       "      <td>San Francisco</td>\n",
       "    </tr>\n",
       "  </tbody>\n",
       "</table>\n",
       "</div>"
      ],
      "text/plain": [
       "            Id EmployeeName                    JobTitle  BasePay  OvertimePay  \\\n",
       "148653  148654    Joe Lopez  Counselor, Log Cabin Ranch      0.0          0.0   \n",
       "\n",
       "        OtherPay  Benefits  TotalPay  TotalPayBenefits  Year         Agency  \n",
       "148653   -618.13       0.0   -618.13           -618.13  2014  San Francisco  "
      ]
     },
     "execution_count": 24,
     "metadata": {},
     "output_type": "execute_result"
    }
   ],
   "source": [
    "#menor salario\n",
    "salm[salm['TotalPayBenefits'] == salm['TotalPayBenefits'].min()]"
   ]
  },
  {
   "cell_type": "code",
   "execution_count": 25,
   "id": "43ae1573",
   "metadata": {},
   "outputs": [],
   "source": [
    "#media BasePay - de todos funcionarios por ano (2011-2014)\n",
    "salariosporano = salm.groupby('Year').sum()"
   ]
  },
  {
   "cell_type": "code",
   "execution_count": 26,
   "id": "7f69e7cc",
   "metadata": {},
   "outputs": [
    {
     "data": {
      "text/html": [
       "<div>\n",
       "<style scoped>\n",
       "    .dataframe tbody tr th:only-of-type {\n",
       "        vertical-align: middle;\n",
       "    }\n",
       "\n",
       "    .dataframe tbody tr th {\n",
       "        vertical-align: top;\n",
       "    }\n",
       "\n",
       "    .dataframe thead th {\n",
       "        text-align: right;\n",
       "    }\n",
       "</style>\n",
       "<table border=\"1\" class=\"dataframe\">\n",
       "  <thead>\n",
       "    <tr style=\"text-align: right;\">\n",
       "      <th></th>\n",
       "      <th>Id</th>\n",
       "      <th>BasePay</th>\n",
       "      <th>OvertimePay</th>\n",
       "      <th>OtherPay</th>\n",
       "      <th>Benefits</th>\n",
       "      <th>TotalPay</th>\n",
       "      <th>TotalPayBenefits</th>\n",
       "    </tr>\n",
       "    <tr>\n",
       "      <th>Year</th>\n",
       "      <th></th>\n",
       "      <th></th>\n",
       "      <th></th>\n",
       "      <th></th>\n",
       "      <th></th>\n",
       "      <th></th>\n",
       "      <th></th>\n",
       "    </tr>\n",
       "  </thead>\n",
       "  <tbody>\n",
       "    <tr>\n",
       "      <th>2011</th>\n",
       "      <td>653754720</td>\n",
       "      <td>2.299566e+09</td>\n",
       "      <td>1.638388e+08</td>\n",
       "      <td>1.307901e+08</td>\n",
       "      <td>0.000000e+00</td>\n",
       "      <td>2.594195e+09</td>\n",
       "      <td>2.594195e+09</td>\n",
       "    </tr>\n",
       "    <tr>\n",
       "      <th>2012</th>\n",
       "      <td>2005309555</td>\n",
       "      <td>2.405835e+09</td>\n",
       "      <td>1.846910e+08</td>\n",
       "      <td>1.343223e+08</td>\n",
       "      <td>9.720918e+08</td>\n",
       "      <td>2.724848e+09</td>\n",
       "      <td>3.696940e+09</td>\n",
       "    </tr>\n",
       "    <tr>\n",
       "      <th>2013</th>\n",
       "      <td>3449541971</td>\n",
       "      <td>2.576381e+09</td>\n",
       "      <td>1.986214e+08</td>\n",
       "      <td>1.436538e+08</td>\n",
       "      <td>8.961163e+08</td>\n",
       "      <td>2.918656e+09</td>\n",
       "      <td>3.814772e+09</td>\n",
       "    </tr>\n",
       "    <tr>\n",
       "      <th>2014</th>\n",
       "      <td>4940473939</td>\n",
       "      <td>2.537369e+09</td>\n",
       "      <td>2.059186e+08</td>\n",
       "      <td>1.336232e+08</td>\n",
       "      <td>9.449548e+08</td>\n",
       "      <td>2.876911e+09</td>\n",
       "      <td>3.821866e+09</td>\n",
       "    </tr>\n",
       "  </tbody>\n",
       "</table>\n",
       "</div>"
      ],
      "text/plain": [
       "              Id       BasePay   OvertimePay      OtherPay      Benefits  \\\n",
       "Year                                                                       \n",
       "2011   653754720  2.299566e+09  1.638388e+08  1.307901e+08  0.000000e+00   \n",
       "2012  2005309555  2.405835e+09  1.846910e+08  1.343223e+08  9.720918e+08   \n",
       "2013  3449541971  2.576381e+09  1.986214e+08  1.436538e+08  8.961163e+08   \n",
       "2014  4940473939  2.537369e+09  2.059186e+08  1.336232e+08  9.449548e+08   \n",
       "\n",
       "          TotalPay  TotalPayBenefits  \n",
       "Year                                  \n",
       "2011  2.594195e+09      2.594195e+09  \n",
       "2012  2.724848e+09      3.696940e+09  \n",
       "2013  2.918656e+09      3.814772e+09  \n",
       "2014  2.876911e+09      3.821866e+09  "
      ]
     },
     "execution_count": 26,
     "metadata": {},
     "output_type": "execute_result"
    }
   ],
   "source": [
    "salariosporano"
   ]
  },
  {
   "cell_type": "code",
   "execution_count": 27,
   "id": "dd1eab46",
   "metadata": {},
   "outputs": [],
   "source": [
    "salariosporano = salariosporano['TotalPay'].astype('int64')"
   ]
  },
  {
   "cell_type": "code",
   "execution_count": 28,
   "id": "465a24f5",
   "metadata": {},
   "outputs": [
    {
     "data": {
      "text/plain": [
       "Year\n",
       "2011    2594195051\n",
       "2012    2724848200\n",
       "2013    2918655930\n",
       "2014    2876910951\n",
       "Name: TotalPay, dtype: int64"
      ]
     },
     "execution_count": 28,
     "metadata": {},
     "output_type": "execute_result"
    }
   ],
   "source": [
    "salariosporano"
   ]
  },
  {
   "cell_type": "code",
   "execution_count": 29,
   "id": "126459c0",
   "metadata": {},
   "outputs": [],
   "source": [
    "import seaborn as sns\n",
    "import matplotlib.pyplot as plt\n",
    "%matplotlib inline"
   ]
  },
  {
   "cell_type": "code",
   "execution_count": 30,
   "id": "fd605fc2",
   "metadata": {},
   "outputs": [],
   "source": [
    "spa = salariosporano.to_frame()"
   ]
  },
  {
   "cell_type": "code",
   "execution_count": 31,
   "id": "401c14ba",
   "metadata": {},
   "outputs": [
    {
     "data": {
      "text/html": [
       "<div>\n",
       "<style scoped>\n",
       "    .dataframe tbody tr th:only-of-type {\n",
       "        vertical-align: middle;\n",
       "    }\n",
       "\n",
       "    .dataframe tbody tr th {\n",
       "        vertical-align: top;\n",
       "    }\n",
       "\n",
       "    .dataframe thead th {\n",
       "        text-align: right;\n",
       "    }\n",
       "</style>\n",
       "<table border=\"1\" class=\"dataframe\">\n",
       "  <thead>\n",
       "    <tr style=\"text-align: right;\">\n",
       "      <th></th>\n",
       "      <th>TotalPay</th>\n",
       "    </tr>\n",
       "    <tr>\n",
       "      <th>Year</th>\n",
       "      <th></th>\n",
       "    </tr>\n",
       "  </thead>\n",
       "  <tbody>\n",
       "    <tr>\n",
       "      <th>2011</th>\n",
       "      <td>2594195051</td>\n",
       "    </tr>\n",
       "    <tr>\n",
       "      <th>2012</th>\n",
       "      <td>2724848200</td>\n",
       "    </tr>\n",
       "    <tr>\n",
       "      <th>2013</th>\n",
       "      <td>2918655930</td>\n",
       "    </tr>\n",
       "    <tr>\n",
       "      <th>2014</th>\n",
       "      <td>2876910951</td>\n",
       "    </tr>\n",
       "  </tbody>\n",
       "</table>\n",
       "</div>"
      ],
      "text/plain": [
       "        TotalPay\n",
       "Year            \n",
       "2011  2594195051\n",
       "2012  2724848200\n",
       "2013  2918655930\n",
       "2014  2876910951"
      ]
     },
     "execution_count": 31,
     "metadata": {},
     "output_type": "execute_result"
    }
   ],
   "source": [
    "spa"
   ]
  },
  {
   "cell_type": "code",
   "execution_count": 32,
   "id": "077aae98",
   "metadata": {},
   "outputs": [
    {
     "data": {
      "text/plain": [
       "<AxesSubplot:xlabel='TotalPay', ylabel='count'>"
      ]
     },
     "execution_count": 32,
     "metadata": {},
     "output_type": "execute_result"
    },
    {
     "data": {
      "image/png": "[encoded data removed]",
      "text/plain": [
       "<Figure size 864x432 with 1 Axes>"
      ]
     },
     "metadata": {
      "needs_background": "light"
     },
     "output_type": "display_data"
    }
   ],
   "source": [
    "plt.figure(figsize=(12,6))\n",
    "sns.countplot(x=spa['TotalPay'], data=spa)"
   ]
  },
  {
   "cell_type": "code",
   "execution_count": 33,
   "id": "fd504d2a",
   "metadata": {
    "scrolled": true
   },
   "outputs": [
    {
     "data": {
      "text/plain": [
       "<AxesSubplot:>"
      ]
     },
     "execution_count": 33,
     "metadata": {},
     "output_type": "execute_result"
    },
    {
     "data": {
      "image/png": "[encoded data removed]",
      "text/plain": [
       "<Figure size 864x432 with 1 Axes>"
      ]
     },
     "metadata": {
      "needs_background": "light"
     },
     "output_type": "display_data"
    }
   ],
   "source": [
    "plt.figure(figsize=(12,6))\n",
    "spa['TotalPay'].hist(bins=50, color='darkred', alpha=0.3)"
   ]
  },
  {
   "cell_type": "code",
   "execution_count": 66,
   "id": "93423c24",
   "metadata": {},
   "outputs": [],
   "source": [
    "somaano = salm.groupby('Year').sum()"
   ]
  },
  {
   "cell_type": "code",
   "execution_count": 67,
   "id": "ecb26fa3",
   "metadata": {},
   "outputs": [
    {
     "data": {
      "text/html": [
       "<div>\n",
       "<style scoped>\n",
       "    .dataframe tbody tr th:only-of-type {\n",
       "        vertical-align: middle;\n",
       "    }\n",
       "\n",
       "    .dataframe tbody tr th {\n",
       "        vertical-align: top;\n",
       "    }\n",
       "\n",
       "    .dataframe thead th {\n",
       "        text-align: right;\n",
       "    }\n",
       "</style>\n",
       "<table border=\"1\" class=\"dataframe\">\n",
       "  <thead>\n",
       "    <tr style=\"text-align: right;\">\n",
       "      <th></th>\n",
       "      <th>Id</th>\n",
       "      <th>BasePay</th>\n",
       "      <th>OvertimePay</th>\n",
       "      <th>OtherPay</th>\n",
       "      <th>Benefits</th>\n",
       "      <th>TotalPay</th>\n",
       "      <th>TotalPayBenefits</th>\n",
       "    </tr>\n",
       "    <tr>\n",
       "      <th>Year</th>\n",
       "      <th></th>\n",
       "      <th></th>\n",
       "      <th></th>\n",
       "      <th></th>\n",
       "      <th></th>\n",
       "      <th></th>\n",
       "      <th></th>\n",
       "    </tr>\n",
       "  </thead>\n",
       "  <tbody>\n",
       "    <tr>\n",
       "      <th>2011</th>\n",
       "      <td>653754720</td>\n",
       "      <td>2.299566e+09</td>\n",
       "      <td>1.638388e+08</td>\n",
       "      <td>1.307901e+08</td>\n",
       "      <td>0.000000e+00</td>\n",
       "      <td>2.594195e+09</td>\n",
       "      <td>2.594195e+09</td>\n",
       "    </tr>\n",
       "    <tr>\n",
       "      <th>2012</th>\n",
       "      <td>2005309555</td>\n",
       "      <td>2.405835e+09</td>\n",
       "      <td>1.846910e+08</td>\n",
       "      <td>1.343223e+08</td>\n",
       "      <td>9.720918e+08</td>\n",
       "      <td>2.724848e+09</td>\n",
       "      <td>3.696940e+09</td>\n",
       "    </tr>\n",
       "    <tr>\n",
       "      <th>2013</th>\n",
       "      <td>3449541971</td>\n",
       "      <td>2.576381e+09</td>\n",
       "      <td>1.986214e+08</td>\n",
       "      <td>1.436538e+08</td>\n",
       "      <td>8.961163e+08</td>\n",
       "      <td>2.918656e+09</td>\n",
       "      <td>3.814772e+09</td>\n",
       "    </tr>\n",
       "    <tr>\n",
       "      <th>2014</th>\n",
       "      <td>4940473939</td>\n",
       "      <td>2.537369e+09</td>\n",
       "      <td>2.059186e+08</td>\n",
       "      <td>1.336232e+08</td>\n",
       "      <td>9.449548e+08</td>\n",
       "      <td>2.876911e+09</td>\n",
       "      <td>3.821866e+09</td>\n",
       "    </tr>\n",
       "  </tbody>\n",
       "</table>\n",
       "</div>"
      ],
      "text/plain": [
       "              Id       BasePay   OvertimePay      OtherPay      Benefits  \\\n",
       "Year                                                                       \n",
       "2011   653754720  2.299566e+09  1.638388e+08  1.307901e+08  0.000000e+00   \n",
       "2012  2005309555  2.405835e+09  1.846910e+08  1.343223e+08  9.720918e+08   \n",
       "2013  3449541971  2.576381e+09  1.986214e+08  1.436538e+08  8.961163e+08   \n",
       "2014  4940473939  2.537369e+09  2.059186e+08  1.336232e+08  9.449548e+08   \n",
       "\n",
       "          TotalPay  TotalPayBenefits  \n",
       "Year                                  \n",
       "2011  2.594195e+09      2.594195e+09  \n",
       "2012  2.724848e+09      3.696940e+09  \n",
       "2013  2.918656e+09      3.814772e+09  \n",
       "2014  2.876911e+09      3.821866e+09  "
      ]
     },
     "execution_count": 67,
     "metadata": {},
     "output_type": "execute_result"
    }
   ],
   "source": [
    "somaano"
   ]
  },
  {
   "cell_type": "code",
   "execution_count": 75,
   "id": "ada9e7c7",
   "metadata": {},
   "outputs": [
    {
     "name": "stdout",
     "output_type": "stream",
     "text": [
      "<class 'pandas.core.frame.DataFrame'>\n",
      "Int64Index: 4 entries, 2011 to 2014\n",
      "Data columns (total 7 columns):\n",
      " #   Column            Non-Null Count  Dtype  \n",
      "---  ------            --------------  -----  \n",
      " 0   Id                4 non-null      int64  \n",
      " 1   BasePay           4 non-null      float64\n",
      " 2   OvertimePay       4 non-null      float64\n",
      " 3   OtherPay          4 non-null      float64\n",
      " 4   Benefits          4 non-null      float64\n",
      " 5   TotalPay          4 non-null      float64\n",
      " 6   TotalPayBenefits  4 non-null      float64\n",
      "dtypes: float64(6), int64(1)\n",
      "memory usage: 256.0 bytes\n"
     ]
    }
   ],
   "source": [
    "somaano.info()"
   ]
  },
  {
   "cell_type": "code",
   "execution_count": 76,
   "id": "d403a3b7",
   "metadata": {},
   "outputs": [
    {
     "data": {
      "text/html": [
       "<div>\n",
       "<style scoped>\n",
       "    .dataframe tbody tr th:only-of-type {\n",
       "        vertical-align: middle;\n",
       "    }\n",
       "\n",
       "    .dataframe tbody tr th {\n",
       "        vertical-align: top;\n",
       "    }\n",
       "\n",
       "    .dataframe thead th {\n",
       "        text-align: right;\n",
       "    }\n",
       "</style>\n",
       "<table border=\"1\" class=\"dataframe\">\n",
       "  <thead>\n",
       "    <tr style=\"text-align: right;\">\n",
       "      <th></th>\n",
       "      <th>Id</th>\n",
       "      <th>BasePay</th>\n",
       "      <th>OvertimePay</th>\n",
       "      <th>OtherPay</th>\n",
       "      <th>Benefits</th>\n",
       "      <th>TotalPay</th>\n",
       "      <th>TotalPayBenefits</th>\n",
       "    </tr>\n",
       "  </thead>\n",
       "  <tbody>\n",
       "    <tr>\n",
       "      <th>count</th>\n",
       "      <td>4.000000e+00</td>\n",
       "      <td>4.000000e+00</td>\n",
       "      <td>4.000000e+00</td>\n",
       "      <td>4.000000e+00</td>\n",
       "      <td>4.000000e+00</td>\n",
       "      <td>4.000000e+00</td>\n",
       "      <td>4.000000e+00</td>\n",
       "    </tr>\n",
       "    <tr>\n",
       "      <th>mean</th>\n",
       "      <td>2.762270e+09</td>\n",
       "      <td>2.454788e+09</td>\n",
       "      <td>1.882675e+08</td>\n",
       "      <td>1.355973e+08</td>\n",
       "      <td>7.032907e+08</td>\n",
       "      <td>2.778653e+09</td>\n",
       "      <td>3.481943e+09</td>\n",
       "    </tr>\n",
       "    <tr>\n",
       "      <th>std</th>\n",
       "      <td>1.847137e+09</td>\n",
       "      <td>1.266158e+08</td>\n",
       "      <td>1.851412e+07</td>\n",
       "      <td>5.583872e+06</td>\n",
       "      <td>4.699131e+08</td>\n",
       "      <td>1.485206e+08</td>\n",
       "      <td>5.945987e+08</td>\n",
       "    </tr>\n",
       "    <tr>\n",
       "      <th>min</th>\n",
       "      <td>6.537547e+08</td>\n",
       "      <td>2.299566e+09</td>\n",
       "      <td>1.638388e+08</td>\n",
       "      <td>1.307901e+08</td>\n",
       "      <td>0.000000e+00</td>\n",
       "      <td>2.594195e+09</td>\n",
       "      <td>2.594195e+09</td>\n",
       "    </tr>\n",
       "    <tr>\n",
       "      <th>25%</th>\n",
       "      <td>1.667421e+09</td>\n",
       "      <td>2.379268e+09</td>\n",
       "      <td>1.794779e+08</td>\n",
       "      <td>1.329149e+08</td>\n",
       "      <td>6.720872e+08</td>\n",
       "      <td>2.692185e+09</td>\n",
       "      <td>3.421254e+09</td>\n",
       "    </tr>\n",
       "    <tr>\n",
       "      <th>50%</th>\n",
       "      <td>2.727426e+09</td>\n",
       "      <td>2.471602e+09</td>\n",
       "      <td>1.916562e+08</td>\n",
       "      <td>1.339727e+08</td>\n",
       "      <td>9.205355e+08</td>\n",
       "      <td>2.800880e+09</td>\n",
       "      <td>3.755856e+09</td>\n",
       "    </tr>\n",
       "    <tr>\n",
       "      <th>75%</th>\n",
       "      <td>3.822275e+09</td>\n",
       "      <td>2.547122e+09</td>\n",
       "      <td>2.004457e+08</td>\n",
       "      <td>1.366552e+08</td>\n",
       "      <td>9.517391e+08</td>\n",
       "      <td>2.887347e+09</td>\n",
       "      <td>3.816546e+09</td>\n",
       "    </tr>\n",
       "    <tr>\n",
       "      <th>max</th>\n",
       "      <td>4.940474e+09</td>\n",
       "      <td>2.576381e+09</td>\n",
       "      <td>2.059186e+08</td>\n",
       "      <td>1.436538e+08</td>\n",
       "      <td>9.720918e+08</td>\n",
       "      <td>2.918656e+09</td>\n",
       "      <td>3.821866e+09</td>\n",
       "    </tr>\n",
       "  </tbody>\n",
       "</table>\n",
       "</div>"
      ],
      "text/plain": [
       "                 Id       BasePay   OvertimePay      OtherPay      Benefits  \\\n",
       "count  4.000000e+00  4.000000e+00  4.000000e+00  4.000000e+00  4.000000e+00   \n",
       "mean   2.762270e+09  2.454788e+09  1.882675e+08  1.355973e+08  7.032907e+08   \n",
       "std    1.847137e+09  1.266158e+08  1.851412e+07  5.583872e+06  4.699131e+08   \n",
       "min    6.537547e+08  2.299566e+09  1.638388e+08  1.307901e+08  0.000000e+00   \n",
       "25%    1.667421e+09  2.379268e+09  1.794779e+08  1.329149e+08  6.720872e+08   \n",
       "50%    2.727426e+09  2.471602e+09  1.916562e+08  1.339727e+08  9.205355e+08   \n",
       "75%    3.822275e+09  2.547122e+09  2.004457e+08  1.366552e+08  9.517391e+08   \n",
       "max    4.940474e+09  2.576381e+09  2.059186e+08  1.436538e+08  9.720918e+08   \n",
       "\n",
       "           TotalPay  TotalPayBenefits  \n",
       "count  4.000000e+00      4.000000e+00  \n",
       "mean   2.778653e+09      3.481943e+09  \n",
       "std    1.485206e+08      5.945987e+08  \n",
       "min    2.594195e+09      2.594195e+09  \n",
       "25%    2.692185e+09      3.421254e+09  \n",
       "50%    2.800880e+09      3.755856e+09  \n",
       "75%    2.887347e+09      3.816546e+09  \n",
       "max    2.918656e+09      3.821866e+09  "
      ]
     },
     "execution_count": 76,
     "metadata": {},
     "output_type": "execute_result"
    }
   ],
   "source": [
    "somaano.describe()"
   ]
  },
  {
   "cell_type": "code",
   "execution_count": 77,
   "id": "41bf8d92",
   "metadata": {},
   "outputs": [
    {
     "data": {
      "text/html": [
       "<div>\n",
       "<style scoped>\n",
       "    .dataframe tbody tr th:only-of-type {\n",
       "        vertical-align: middle;\n",
       "    }\n",
       "\n",
       "    .dataframe tbody tr th {\n",
       "        vertical-align: top;\n",
       "    }\n",
       "\n",
       "    .dataframe thead th {\n",
       "        text-align: right;\n",
       "    }\n",
       "</style>\n",
       "<table border=\"1\" class=\"dataframe\">\n",
       "  <thead>\n",
       "    <tr style=\"text-align: right;\">\n",
       "      <th></th>\n",
       "      <th>Id</th>\n",
       "      <th>BasePay</th>\n",
       "      <th>OvertimePay</th>\n",
       "      <th>OtherPay</th>\n",
       "      <th>Benefits</th>\n",
       "      <th>TotalPay</th>\n",
       "      <th>TotalPayBenefits</th>\n",
       "    </tr>\n",
       "    <tr>\n",
       "      <th>Year</th>\n",
       "      <th></th>\n",
       "      <th></th>\n",
       "      <th></th>\n",
       "      <th></th>\n",
       "      <th></th>\n",
       "      <th></th>\n",
       "      <th></th>\n",
       "    </tr>\n",
       "  </thead>\n",
       "  <tbody>\n",
       "    <tr>\n",
       "      <th>2011</th>\n",
       "      <td>653754720</td>\n",
       "      <td>2.299566e+09</td>\n",
       "      <td>1.638388e+08</td>\n",
       "      <td>1.307901e+08</td>\n",
       "      <td>0.000000e+00</td>\n",
       "      <td>2.594195e+09</td>\n",
       "      <td>2.594195e+09</td>\n",
       "    </tr>\n",
       "    <tr>\n",
       "      <th>2012</th>\n",
       "      <td>2005309555</td>\n",
       "      <td>2.405835e+09</td>\n",
       "      <td>1.846910e+08</td>\n",
       "      <td>1.343223e+08</td>\n",
       "      <td>9.720918e+08</td>\n",
       "      <td>2.724848e+09</td>\n",
       "      <td>3.696940e+09</td>\n",
       "    </tr>\n",
       "    <tr>\n",
       "      <th>2013</th>\n",
       "      <td>3449541971</td>\n",
       "      <td>2.576381e+09</td>\n",
       "      <td>1.986214e+08</td>\n",
       "      <td>1.436538e+08</td>\n",
       "      <td>8.961163e+08</td>\n",
       "      <td>2.918656e+09</td>\n",
       "      <td>3.814772e+09</td>\n",
       "    </tr>\n",
       "    <tr>\n",
       "      <th>2014</th>\n",
       "      <td>4940473939</td>\n",
       "      <td>2.537369e+09</td>\n",
       "      <td>2.059186e+08</td>\n",
       "      <td>1.336232e+08</td>\n",
       "      <td>9.449548e+08</td>\n",
       "      <td>2.876911e+09</td>\n",
       "      <td>3.821866e+09</td>\n",
       "    </tr>\n",
       "  </tbody>\n",
       "</table>\n",
       "</div>"
      ],
      "text/plain": [
       "              Id       BasePay   OvertimePay      OtherPay      Benefits  \\\n",
       "Year                                                                       \n",
       "2011   653754720  2.299566e+09  1.638388e+08  1.307901e+08  0.000000e+00   \n",
       "2012  2005309555  2.405835e+09  1.846910e+08  1.343223e+08  9.720918e+08   \n",
       "2013  3449541971  2.576381e+09  1.986214e+08  1.436538e+08  8.961163e+08   \n",
       "2014  4940473939  2.537369e+09  2.059186e+08  1.336232e+08  9.449548e+08   \n",
       "\n",
       "          TotalPay  TotalPayBenefits  \n",
       "Year                                  \n",
       "2011  2.594195e+09      2.594195e+09  \n",
       "2012  2.724848e+09      3.696940e+09  \n",
       "2013  2.918656e+09      3.814772e+09  \n",
       "2014  2.876911e+09      3.821866e+09  "
      ]
     },
     "execution_count": 77,
     "metadata": {},
     "output_type": "execute_result"
    }
   ],
   "source": [
    "somaano.infer_objects()"
   ]
  },
  {
   "cell_type": "code",
   "execution_count": 78,
   "id": "f4b733db",
   "metadata": {},
   "outputs": [],
   "source": [
    "from pandas import option_context\n"
   ]
  },
  {
   "cell_type": "code",
   "execution_count": 80,
   "id": "eccfe46c",
   "metadata": {},
   "outputs": [
    {
     "data": {
      "text/html": [
       "<div>\n",
       "<style scoped>\n",
       "    .dataframe tbody tr th:only-of-type {\n",
       "        vertical-align: middle;\n",
       "    }\n",
       "\n",
       "    .dataframe tbody tr th {\n",
       "        vertical-align: top;\n",
       "    }\n",
       "\n",
       "    .dataframe thead th {\n",
       "        text-align: right;\n",
       "    }\n",
       "</style>\n",
       "<table border=\"1\" class=\"dataframe\">\n",
       "  <thead>\n",
       "    <tr style=\"text-align: right;\">\n",
       "      <th></th>\n",
       "      <th>Id</th>\n",
       "      <th>BasePay</th>\n",
       "      <th>OvertimePay</th>\n",
       "      <th>OtherPay</th>\n",
       "      <th>Benefits</th>\n",
       "      <th>TotalPay</th>\n",
       "      <th>TotalPayBenefits</th>\n",
       "    </tr>\n",
       "    <tr>\n",
       "      <th>Year</th>\n",
       "      <th></th>\n",
       "      <th></th>\n",
       "      <th></th>\n",
       "      <th></th>\n",
       "      <th></th>\n",
       "      <th></th>\n",
       "      <th></th>\n",
       "    </tr>\n",
       "  </thead>\n",
       "  <tbody>\n",
       "    <tr>\n",
       "      <th>2011</th>\n",
       "      <td>653754720</td>\n",
       "      <td>2.299566e+09</td>\n",
       "      <td>1.638388e+08</td>\n",
       "      <td>1.307901e+08</td>\n",
       "      <td>0.000000e+00</td>\n",
       "      <td>2.594195e+09</td>\n",
       "      <td>2.594195e+09</td>\n",
       "    </tr>\n",
       "    <tr>\n",
       "      <th>2012</th>\n",
       "      <td>2005309555</td>\n",
       "      <td>2.405835e+09</td>\n",
       "      <td>1.846910e+08</td>\n",
       "      <td>1.343223e+08</td>\n",
       "      <td>9.720918e+08</td>\n",
       "      <td>2.724848e+09</td>\n",
       "      <td>3.696940e+09</td>\n",
       "    </tr>\n",
       "    <tr>\n",
       "      <th>2013</th>\n",
       "      <td>3449541971</td>\n",
       "      <td>2.576381e+09</td>\n",
       "      <td>1.986214e+08</td>\n",
       "      <td>1.436538e+08</td>\n",
       "      <td>8.961163e+08</td>\n",
       "      <td>2.918656e+09</td>\n",
       "      <td>3.814772e+09</td>\n",
       "    </tr>\n",
       "    <tr>\n",
       "      <th>2014</th>\n",
       "      <td>4940473939</td>\n",
       "      <td>2.537369e+09</td>\n",
       "      <td>2.059186e+08</td>\n",
       "      <td>1.336232e+08</td>\n",
       "      <td>9.449548e+08</td>\n",
       "      <td>2.876911e+09</td>\n",
       "      <td>3.821866e+09</td>\n",
       "    </tr>\n",
       "  </tbody>\n",
       "</table>\n",
       "</div>"
      ],
      "text/plain": [
       "              Id       BasePay   OvertimePay      OtherPay      Benefits  \\\n",
       "Year                                                                       \n",
       "2011   653754720  2.299566e+09  1.638388e+08  1.307901e+08  0.000000e+00   \n",
       "2012  2005309555  2.405835e+09  1.846910e+08  1.343223e+08  9.720918e+08   \n",
       "2013  3449541971  2.576381e+09  1.986214e+08  1.436538e+08  8.961163e+08   \n",
       "2014  4940473939  2.537369e+09  2.059186e+08  1.336232e+08  9.449548e+08   \n",
       "\n",
       "          TotalPay  TotalPayBenefits  \n",
       "Year                                  \n",
       "2011  2.594195e+09      2.594195e+09  \n",
       "2012  2.724848e+09      3.696940e+09  \n",
       "2013  2.918656e+09      3.814772e+09  \n",
       "2014  2.876911e+09      3.821866e+09  "
      ]
     },
     "metadata": {},
     "output_type": "display_data"
    }
   ],
   "source": [
    "with option_context('display.max_colwidth', 800):\n",
    "    display(somaano.head())"
   ]
  },
  {
   "cell_type": "code",
   "execution_count": 34,
   "id": "9fd0d324",
   "metadata": {},
   "outputs": [
    {
     "data": {
      "text/plain": [
       "array(['GENERAL MANAGER-METROPOLITAN TRANSIT AUTHORITY',\n",
       "       'CAPTAIN III (POLICE DEPARTMENT)',\n",
       "       'WIRE ROPE CABLE MAINTENANCE MECHANIC', ..., 'Conversion',\n",
       "       'Cashier 3', 'Not provided'], dtype=object)"
      ]
     },
     "execution_count": 34,
     "metadata": {},
     "output_type": "execute_result"
    }
   ],
   "source": [
    "#quantos titulos de trabalhos unicos existem?\n",
    "salm['JobTitle'].unique()"
   ]
  },
  {
   "cell_type": "code",
   "execution_count": 35,
   "id": "9a55520a",
   "metadata": {},
   "outputs": [
    {
     "ename": "NameError",
     "evalue": "name 'sal' is not defined",
     "output_type": "error",
     "traceback": [
      "\u001b[1;31m---------------------------------------------------------------------------\u001b[0m",
      "\u001b[1;31mNameError\u001b[0m                                 Traceback (most recent call last)",
      "\u001b[1;32m<ipython-input-35-eeb6c6d02149>\u001b[0m in \u001b[0;36m<module>\u001b[1;34m\u001b[0m\n\u001b[0;32m      1\u001b[0m \u001b[1;31m#quantos titulos de trabalhos unicos existem? (quantidade)\u001b[0m\u001b[1;33m\u001b[0m\u001b[1;33m\u001b[0m\u001b[1;33m\u001b[0m\u001b[0m\n\u001b[1;32m----> 2\u001b[1;33m \u001b[0msal\u001b[0m\u001b[1;33m[\u001b[0m\u001b[1;34m'JobTitle'\u001b[0m\u001b[1;33m]\u001b[0m\u001b[1;33m.\u001b[0m\u001b[0mnunique\u001b[0m\u001b[1;33m(\u001b[0m\u001b[1;33m)\u001b[0m\u001b[1;33m\u001b[0m\u001b[1;33m\u001b[0m\u001b[0m\n\u001b[0m",
      "\u001b[1;31mNameError\u001b[0m: name 'sal' is not defined"
     ]
    }
   ],
   "source": [
    "#quantos titulos de trabalhos unicos existem? (quantidade)\n",
    "sal['JobTitle'].nunique()"
   ]
  },
  {
   "cell_type": "code",
   "execution_count": null,
   "id": "54fcc8bc",
   "metadata": {},
   "outputs": [],
   "source": [
    "# 5 empregos + comuns\n",
    "sal['JobTitle'].value_counts().iloc[:5]"
   ]
  },
  {
   "cell_type": "code",
   "execution_count": null,
   "id": "6da8007e",
   "metadata": {},
   "outputs": [],
   "source": [
    "#titulos de trabalho represeentado por apenas uma pessoa em 2013. Uma ocorrencia em 2013\n",
    "sal[sal['Year']==2013]"
   ]
  },
  {
   "cell_type": "code",
   "execution_count": null,
   "id": "dc095a6b",
   "metadata": {},
   "outputs": [],
   "source": [
    "sal[sal['Year']==2013]['JobTitle'].value_counts()==1"
   ]
  },
  {
   "cell_type": "code",
   "execution_count": null,
   "id": "9149a36f",
   "metadata": {},
   "outputs": [],
   "source": [
    "sum(sal[sal['Year']==2013]['JobTitle'].value_counts()==1)"
   ]
  },
  {
   "cell_type": "code",
   "execution_count": null,
   "id": "6d1e6901",
   "metadata": {},
   "outputs": [],
   "source": [
    "#quantas pessoas tem a palavra 'Chief' em seu cargo?\n",
    "def chief_string(title):\n",
    "    if'chief' in title.lower():\n",
    "        return True\n",
    "    else:\n",
    "        return False"
   ]
  },
  {
   "cell_type": "code",
   "execution_count": null,
   "id": "6e454cc8",
   "metadata": {},
   "outputs": [],
   "source": [
    "sal['JobTitle'].apply(lambda x: chief_string(x))"
   ]
  },
  {
   "cell_type": "code",
   "execution_count": null,
   "id": "5680e575",
   "metadata": {},
   "outputs": [],
   "source": [
    "sum(sal['JobTitle'].apply(lambda x: chief_string(x)))"
   ]
  },
  {
   "cell_type": "code",
   "execution_count": null,
   "id": "c43cec3a",
   "metadata": {},
   "outputs": [],
   "source": [
    "sal['TotalPayBenefits'].sum()"
   ]
  },
  {
   "cell_type": "code",
   "execution_count": null,
   "id": "0e8164da",
   "metadata": {},
   "outputs": [],
   "source": [
    "#existe uma correlacao entre o comprimento da sequencia do titulo do trabalho e do salario\n",
    "sal['Tamanho da string'] = sal['JobTitle'].apply(len)"
   ]
  },
  {
   "cell_type": "code",
   "execution_count": null,
   "id": "4380e84a",
   "metadata": {},
   "outputs": [],
   "source": [
    "sal[['Tamanho da string', 'TotalPayBenefits']].corr()"
   ]
  }
 ],
 "metadata": {
  "kernelspec": {
   "display_name": "Python 3",
   "language": "python",
   "name": "python3"
  },
  "language_info": {
   "codemirror_mode": {
    "name": "ipython",
    "version": 3
   },
   "file_extension": ".py",
   "mimetype": "text/x-python",
   "name": "python",
   "nbconvert_exporter": "python",
   "pygments_lexer": "ipython3",
   "version": "3.8.8"
  }
 },
 "nbformat": 4,
 "nbformat_minor": 5
}
